{
 "cells": [
  {
   "cell_type": "markdown",
   "metadata": {},
   "source": [
    "# Loan Prediction Analysis\n",
    "This notebook analyzes the loan prediction dataset and visualizes key insights."
   ]
  },
  {
   "cell_type": "code",
   "execution_count": null,
   "metadata": {},
   "source": [
    "import pandas as pd\n",
    "import numpy as np\n",
    "import matplotlib.pyplot as plt\n",
    "import seaborn as sns\n",
    "import os\n",
    "\n",
    "# Set the style for all visualizations\n",
    "plt.style.use('seaborn')\n",
    "sns.set_palette('husl')"
   ]
  },
  {
   "cell_type": "markdown",
   "metadata": {},
   "source": [
    "## Load and Examine Data"
   ]
  },
  {
   "cell_type": "code",
   "execution_count": null,
   "metadata": {},
   "source": [
    "# Load raw data\n",
    "raw_data = pd.read_csv('../data/raw/test_Y3wMUE5_7gLdaTN.csv')\n",
    "\n",
    "# Display basic information\n",
    "print('Dataset Shape:', raw_data.shape)\n",
    "print('\nColumns:', raw_data.columns.tolist())\n",
    "print('\nData Types:\n', raw_data.dtypes)\n",
    "print('\nMissing Values:\n', raw_data.isnull().sum())"
   ]
  },
  {
   "cell_type": "markdown",
   "metadata": {},
   "source": [
    "## Analyze Numerical Features"
   ]
  },
  {
   "cell_type": "code",
   "execution_count": null,
   "metadata": {},
   "source": [
    "# Statistical summary of numerical features\n",
    "numerical_features = ['ApplicantIncome', 'CoapplicantIncome', 'LoanAmount', 'Loan_Amount_Term']\n",
    "raw_data[numerical_features].describe()"
   ]
  },
  {
   "cell_type": "code",
   "execution_count": null,
   "metadata": {},
   "source": [
    "# Distribution plots for numerical features\n",
    "plt.figure(figsize=(15, 10))\n",
    "for i, col in enumerate(numerical_features, 1):\n",
    "    plt.subplot(2, 2, i)\n",
    "    sns.histplot(data=raw_data, x=col, kde=True)\n",
    "    plt.title(f'Distribution of {col}')\n",
    "plt.tight_layout()\n",
    "plt.show()"
   ]
  },
  {
   "cell_type": "markdown",
   "metadata": {},
   "source": [
    "## Analyze Categorical Features"
   ]
  },
  {
   "cell_type": "code",
   "execution_count": null,
   "metadata": {},
   "source": [
    "# Count plots for categorical features\n",
    "categorical_features = ['Gender', 'Married', 'Education', 'Self_Employed', 'Property_Area']\n",
    "\n",
    "plt.figure(figsize=(15, 10))\n",
    "for i, col in enumerate(categorical_features, 1):\n",
    "    plt.subplot(2, 3, i)\n",
    "    sns.countplot(data=raw_data, x=col)\n",
    "    plt.title(f'Distribution of {col}')\n",
    "    plt.xticks(rotation=45)\n",
    "plt.tight_layout()\n",
    "plt.show()"
   ]
  },
  {
   "cell_type": "markdown",
   "metadata": {},
   "source": [
    "## Correlation Analysis"
   ]
  },
  {
   "cell_type": "code",
   "execution_count": null,
   "metadata": {},
   "source": [
    "# Correlation matrix for numerical features\n",
    "correlation = raw_data[numerical_features].corr()\n",
    "\n",
    "plt.figure(figsize=(10, 8))\n",
    "sns.heatmap(correlation, annot=True, cmap='coolwarm', center=0)\n",
    "plt.title('Correlation Matrix')\n",
    "plt.show()"
   ]
  },
  {
   "cell_type": "markdown",
   "metadata": {},
   "source": [
    "## Load Processed Data"
   ]
  },
  {
   "cell_type": "code",
   "execution_count": null,
   "metadata": {},
   "source": [
    "# Load processed data\n",
    "processed_data = pd.read_csv('../data/processed/processed_loan_data.csv')\n",
    "\n",
    "print('Processed Dataset Shape:', processed_data.shape)\n",
    "print('\nProcessed Columns:', processed_data.columns.tolist())\n",
    "print('\nProcessed Data Types:\n', processed_data.dtypes)\n",
    "print('\nMissing Values after Processing:\n', processed_data.isnull().sum())"
   ]
  },
  {
   "cell_type": "markdown",
   "metadata": {},
   "source": [
    "## Key Findings and Insights\n",
    "\n",
    "1. Data Quality:\n",
    "   - Initial missing values in various features\n",
    "   - Processed data has no missing values\n",
    "\n",
    "2. Numerical Features:\n",
    "   - Wide range of applicant incomes\n",
    "   - Loan amounts follow a right-skewed distribution\n",
    "   - Most loans have a term of 360 months\n",
    "\n",
    "3. Categorical Features:\n",
    "   - Gender distribution shows more male applicants\n",
    "   - Most applicants are graduates\n",
    "   - Property area distribution is relatively balanced\n",
    "\n",
    "4. Correlations:\n",
    "   - Positive correlation between applicant income and loan amount\n",
    "   - Weak correlation between co-applicant income and other features"
   ]
  }
 ],
 "metadata": {
  "kernelspec": {
   "display_name": "Python 3",
   "language": "python",
   "name": "python3"
  },
  "language_info": {
   "codemirror_mode": {
    "name": "ipython",
    "version": 3
   },
   "file_extension": ".py",
   "mimetype": "text/x-python",
   "name": "python",
   "nbconvert_exporter": "python",
   "pygments_lexer": "ipython3",
   "version": "3.8.0"
  }
 },
 "nbformat": 4,
 "nbformat_minor": 4
}